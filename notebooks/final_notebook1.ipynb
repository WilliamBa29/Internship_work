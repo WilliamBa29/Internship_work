{
 "cells": [
  {
   "cell_type": "code",
   "execution_count": 1,
   "metadata": {},
   "outputs": [],
   "source": [
    "import os\n",
    "import sys\n",
    "sys.path.insert(0,'D:\\Documents\\OneDrive\\Documents\\Data Science\\MaxKelsen\\csenergy-internship')\n",
    "from src.helpers.slicingdata import formatting\n",
    "from src.helpers.slicingdata import week\n",
    "from src.helpers.slicingdata1 import rearrange\n",
    "from src.helpers.frequency import relfreq\n",
    "import pandas as pd\n",
    "import torch\n",
    "import numpy as np\n",
    "from src.modelling.Gaussian_Process2 import splitdata2,GPenergy2\n",
    "from src.modelling.basic_sparse_GP1 import inducing_point_gamma\n",
    "from src.modelling.basic_sparse_GP1 import Gaussiansparse, Gaussiansparse1\n",
    "\n",
    "from src.modelling.testing import testing\n",
    "from src.helpers.splitdata3 import splitdata3\n"
   ]
  },
  {
   "cell_type": "code",
   "execution_count": 5,
   "metadata": {},
   "outputs": [
    {
     "ename": "TypeError",
     "evalue": "testing() missing 3 required positional arguments: 'Xu', 'notestpoints', and 'df_'",
     "output_type": "error",
     "traceback": [
      "\u001b[1;31m---------------------------------------------------------------------------\u001b[0m",
      "\u001b[1;31mTypeError\u001b[0m                                 Traceback (most recent call last)",
      "\u001b[1;32m~\\AppData\\Local\\Temp/ipykernel_20992/1783470771.py\u001b[0m in \u001b[0;36m<module>\u001b[1;34m\u001b[0m\n\u001b[0;32m     25\u001b[0m \u001b[0mx1\u001b[0m\u001b[1;33m,\u001b[0m\u001b[0mx2\u001b[0m\u001b[1;33m,\u001b[0m\u001b[0mY1\u001b[0m\u001b[1;33m,\u001b[0m\u001b[0mY2\u001b[0m\u001b[1;33m,\u001b[0m\u001b[0mt1\u001b[0m\u001b[1;33m,\u001b[0m\u001b[0mt2\u001b[0m\u001b[1;33m=\u001b[0m\u001b[0msplitdata3\u001b[0m\u001b[1;33m(\u001b[0m\u001b[0mdf_1\u001b[0m\u001b[1;33m,\u001b[0m\u001b[1;34m'min'\u001b[0m\u001b[1;33m)\u001b[0m\u001b[1;33m\u001b[0m\u001b[1;33m\u001b[0m\u001b[0m\n\u001b[0;32m     26\u001b[0m \u001b[0mXu\u001b[0m\u001b[1;33m=\u001b[0m\u001b[0minducing_point_gamma\u001b[0m\u001b[1;33m(\u001b[0m\u001b[0mn\u001b[0m\u001b[1;33m=\u001b[0m\u001b[0mlen\u001b[0m\u001b[1;33m(\u001b[0m\u001b[0mx1\u001b[0m\u001b[1;33m)\u001b[0m\u001b[1;33m,\u001b[0m \u001b[0malpha\u001b[0m\u001b[1;33m=\u001b[0m\u001b[1;36m14.\u001b[0m\u001b[1;33m,\u001b[0m \u001b[0mbeta\u001b[0m\u001b[1;33m=\u001b[0m\u001b[0mfloat\u001b[0m\u001b[1;33m(\u001b[0m\u001b[1;36m1.5625\u001b[0m\u001b[1;33m*\u001b[0m\u001b[0mlen\u001b[0m\u001b[1;33m(\u001b[0m\u001b[0mx1\u001b[0m\u001b[1;33m)\u001b[0m\u001b[1;33m)\u001b[0m\u001b[1;33m,\u001b[0m\u001b[0mshift\u001b[0m\u001b[1;33m=\u001b[0m\u001b[0mlen\u001b[0m\u001b[1;33m(\u001b[0m\u001b[0mx1\u001b[0m\u001b[1;33m)\u001b[0m\u001b[1;33m/\u001b[0m\u001b[1;36m22.\u001b[0m\u001b[1;33m,\u001b[0m \u001b[0mnum_inducing\u001b[0m\u001b[1;33m=\u001b[0m\u001b[1;36m100\u001b[0m\u001b[1;33m,\u001b[0m \u001b[0mx1\u001b[0m\u001b[1;33m=\u001b[0m\u001b[0mx1\u001b[0m\u001b[1;33m)\u001b[0m\u001b[1;33m\u001b[0m\u001b[1;33m\u001b[0m\u001b[0m\n\u001b[1;32m---> 27\u001b[1;33m \u001b[0mtesting\u001b[0m\u001b[1;33m(\u001b[0m\u001b[0mx1\u001b[0m\u001b[1;33m,\u001b[0m\u001b[0mx2\u001b[0m\u001b[1;33m,\u001b[0m\u001b[0mY1\u001b[0m\u001b[1;33m,\u001b[0m\u001b[0mY2\u001b[0m\u001b[1;33m,\u001b[0m\u001b[1;36m10\u001b[0m\u001b[1;33m,\u001b[0m\u001b[0mdf_1\u001b[0m\u001b[1;33m)\u001b[0m\u001b[1;33m\u001b[0m\u001b[1;33m\u001b[0m\u001b[0m\n\u001b[0m",
      "\u001b[1;31mTypeError\u001b[0m: testing() missing 3 required positional arguments: 'Xu', 'notestpoints', and 'df_'"
     ]
    }
   ],
   "source": [
    "import numpy as np\n",
    "import pyro\n",
    "import pyro.contrib.gp as gp\n",
    "import math\n",
    "DIR_BASE='D:/Documents/OneDrive/Documents/Data Science/MaxKelsen/csenergy-internship/data/raw'\n",
    "FILE_HISTORY1=os.path.join(DIR_BASE,\"CapPrice.csv\")\n",
    "df_1=pd.read_csv(FILE_HISTORY1)\n",
    "df_1=df_1.iloc[range(0,10000),:]\n",
    "#m=df_.iloc[:,0].str[3:6]\n",
    "#x=np.empty([len(df_),5],dtype=object)\n",
    "#x[:,0]=df_.iloc[:,1]\n",
    "#x[m=='01',1]=1\n",
    "#x[m=='02',1]=2\n",
    "#x[m=='03',1]=3\n",
    "#x[m=='04',1]=4\n",
    "#x[m=='05',1]=5\n",
    "#x[m=='06',1]=6\n",
    "#x[m=='07',1]=7\n",
    "#x[m=='08',1]=8\n",
    "#x[m=='09',1]=9\n",
    "#x[m=='10',1]=10\n",
    "#x[m=='11',1]=11\n",
    "#x[m=='12',1]=12\n",
    "#df_1=df_1.iloc[range(0,50000),:]\n",
    "x1,x2,Y1,Y2,t1,t2=splitdata3(df_1,'min')\n",
    "\n",
    "testing(x1,x2,Y1,Y2,10,df_1)"
   ]
  },
  {
   "cell_type": "code",
   "execution_count": 1,
   "metadata": {},
   "outputs": [
    {
     "ename": "NameError",
     "evalue": "name 'pd' is not defined",
     "output_type": "error",
     "traceback": [
      "\u001b[1;31m---------------------------------------------------------------------------\u001b[0m",
      "\u001b[1;31mNameError\u001b[0m                                 Traceback (most recent call last)",
      "\u001b[1;32m~\\AppData\\Local\\Temp/ipykernel_29080/3646612879.py\u001b[0m in \u001b[0;36m<module>\u001b[1;34m\u001b[0m\n\u001b[0;32m      6\u001b[0m \u001b[0mDIR_BASE\u001b[0m\u001b[1;33m=\u001b[0m\u001b[1;34m'D:/Documents/OneDrive/Documents/Data Science/MaxKelsen/csenergy-internship/data/raw'\u001b[0m\u001b[1;33m\u001b[0m\u001b[1;33m\u001b[0m\u001b[0m\n\u001b[0;32m      7\u001b[0m \u001b[0mFILE_HISTORY1\u001b[0m\u001b[1;33m=\u001b[0m\u001b[0mos\u001b[0m\u001b[1;33m.\u001b[0m\u001b[0mpath\u001b[0m\u001b[1;33m.\u001b[0m\u001b[0mjoin\u001b[0m\u001b[1;33m(\u001b[0m\u001b[0mDIR_BASE\u001b[0m\u001b[1;33m,\u001b[0m\u001b[1;34m\"Demand.csv\"\u001b[0m\u001b[1;33m)\u001b[0m\u001b[1;33m\u001b[0m\u001b[1;33m\u001b[0m\u001b[0m\n\u001b[1;32m----> 8\u001b[1;33m \u001b[0mdf_1\u001b[0m\u001b[1;33m=\u001b[0m\u001b[0mpd\u001b[0m\u001b[1;33m.\u001b[0m\u001b[0mread_csv\u001b[0m\u001b[1;33m(\u001b[0m\u001b[0mFILE_HISTORY1\u001b[0m\u001b[1;33m)\u001b[0m\u001b[1;33m\u001b[0m\u001b[1;33m\u001b[0m\u001b[0m\n\u001b[0m\u001b[0;32m      9\u001b[0m \u001b[1;31m#df_1=df_1.iloc[range(0,50000),:]\u001b[0m\u001b[1;33m\u001b[0m\u001b[1;33m\u001b[0m\u001b[1;33m\u001b[0m\u001b[0m\n\u001b[0;32m     10\u001b[0m \u001b[0mx2\u001b[0m\u001b[1;33m,\u001b[0m\u001b[0mdata1\u001b[0m\u001b[1;33m=\u001b[0m\u001b[0msplitdata2\u001b[0m\u001b[1;33m(\u001b[0m\u001b[0mdf_1\u001b[0m\u001b[1;33m,\u001b[0m\u001b[1;34m'01'\u001b[0m\u001b[1;33m,\u001b[0m \u001b[1;34m'Workdays'\u001b[0m\u001b[1;33m)\u001b[0m\u001b[1;33m\u001b[0m\u001b[1;33m\u001b[0m\u001b[0m\n",
      "\u001b[1;31mNameError\u001b[0m: name 'pd' is not defined"
     ]
    }
   ],
   "source": [
    "import numpy as np\n",
    "import pyro\n",
    "import pyro.contrib.gp as gp\n",
    "import math\n",
    "\n",
    "DIR_BASE='D:/Documents/OneDrive/Documents/Data Science/MaxKelsen/csenergy-internship/data/raw'\n",
    "FILE_HISTORY1=os.path.join(DIR_BASE,\"Demand.csv\")\n",
    "df_1=pd.read_csv(FILE_HISTORY1)\n",
    "#df_1=df_1.iloc[range(0,50000),:]\n",
    "x2,data1=splitdata2(df_1,'01', 'Workdays')\n",
    "#print(data1)\n",
    "data2=data1.iloc[range(0,math.floor(0.8*len(data1))),0]\n",
    "x=x2[range(0,math.floor(0.8*len(data1)))]\n",
    "x1=x2[range(math.floor(0.8*len(data1)),len(data1))]\n",
    "x=x.astype(float)\n",
    "x1=x1.astype(float)\n",
    "data2=data2.astype(float)\n",
    "#validationdata=validationdata.astype(float)\n",
    "print(type(x1))\n",
    "validationdata=data1.iloc[range(math.floor(0.8*len(data1)),len(data1)),0]\n",
    "validationdata=validationdata.astype(float)\n",
    "kernel=gp.kernels.Periodic(input_dim=1,variance=torch.tensor(10000.))\n",
    "#kernel1= gp.kernels.Sum(gp.kernels.Periodic(input_dim=1),gp.kernels.Periodic(input_dim=1))\n",
    "#kernel=gp.kernels.Sum(kernel1,gp.kernels.Periodic(input_dim=1))\n",
    "#print(x1)\n",
    "#print(x1)\n",
    "#print(data2)\n",
    "#print(validationdata)\n",
    "lower,upper,m,cov,p,Rsq=GPenergy2(x,x1,data2,validationdata,kernel)\n",
    "\n"
   ]
  },
  {
   "cell_type": "code",
   "execution_count": 2,
   "metadata": {},
   "outputs": [
    {
     "name": "stdout",
     "output_type": "stream",
     "text": [
      "<class 'numpy.ndarray'>\n",
      "0\n",
      "1\n",
      "2\n",
      "Periodic()\n"
     ]
    },
    {
     "data": {
      "image/png": "[encoded data removed]",
      "text/plain": [
       "<Figure size 432x288 with 1 Axes>"
      ]
     },
     "metadata": {
      "needs_background": "light"
     },
     "output_type": "display_data"
    },
    {
     "name": "stderr",
     "output_type": "stream",
     "text": [
      "D:\\Documents\\OneDrive\\Documents\\Data Science\\MaxKelsen\\csenergy-internship\\src\\modelling\\Gaussian_Process2.py:100: UserWarning: Creating a tensor from a list of numpy.ndarrays is extremely slow. Please consider converting the list to a single numpy.ndarray with numpy.array() before converting to a tensor. (Triggered internally at  ..\\torch\\csrc\\utils\\tensor_new.cpp:201.)\n",
      "  xj=torch.tensor(list(x))\n"
     ]
    },
    {
     "name": "stdout",
     "output_type": "stream",
     "text": [
      "0\n",
      "1\n",
      "2\n",
      "Periodic()\n"
     ]
    },
    {
     "data": {
      "image/png": "[encoded data removed]",
      "text/plain": [
       "<Figure size 432x288 with 1 Axes>"
      ]
     },
     "metadata": {
      "needs_background": "light"
     },
     "output_type": "display_data"
    }
   ],
   "source": [
    "import numpy as np\n",
    "import pyro\n",
    "import pyro.contrib.gp as gp\n",
    "import math\n",
    "\n",
    "DIR_BASE='D:/Documents/OneDrive/Documents/Data Science/MaxKelsen/csenergy-internship/data/raw'\n",
    "FILE_HISTORY1=os.path.join(DIR_BASE,\"Demand.csv\")\n",
    "df_1=pd.read_csv(FILE_HISTORY1)\n",
    "#df_1=df_1.iloc[range(0,50000),:]\n",
    "x2,data1=splitdata2(df_1,'01', 'Workdays')\n",
    "#print(data1)\n",
    "data2=data1.iloc[range(0,math.floor(0.8*len(data1))),0]\n",
    "x=x2[range(0,math.floor(0.8*len(data1)))]\n",
    "x1=x2[range(math.floor(0.8*len(data1)),len(data1))]\n",
    "#x=np.concatenate(x,data1.iloc[range(0,math.floor(0.8*len(data1))),1])\n",
    "#x1=np.concatenate(x1,data1.iloc[range(math.floor(0.8*len(data1)),len(data1)),1])\n",
    "x=x.astype(float)\n",
    "x1=x1.astype(float)\n",
    "data2=data2.astype(float)\n",
    "#validationdata=validationdata.astype(float)\n",
    "print(type(x1))\n",
    "validationdata=data1.iloc[range(math.floor(0.8*len(data1)),len(data1)),0]\n",
    "validationdata=validationdata.astype(float)\n",
    "#kernel=gp.kernels.RBF(input_dim=1,variance=torch.tensor(10000.),lengthscale=torch.tensor(100.))\n",
    "kernel=gp.kernels.Periodic(input_dim=1,variance=torch.tensor(10000.))\n",
    "#kernel1= gp.kernels.Sum(gp.kernels.Periodic(input_dim=1),gp.kernels.Periodic(input_dim=1))\n",
    "#kernel=gp.kernels.Sum(kernel1,gp.kernels.Periodic(input_dim=1))\n",
    "#print(x1)\n",
    "#print(x1)\n",
    "#print(data2)\n",
    "#print(validationdata)\n",
    "lower,upper,m1,m,cov,p,Rsq=GPenergy2(x,x1,data2,validationdata,kernel,meanf=lambda x: 7000)\n",
    "x=np.transpose(np.vstack((x,m1.detach().numpy())))\n",
    "x1=np.transpose(np.vstack((x1,m.detach().numpy())))\n",
    "data3=data1.iloc[range(0,math.floor(0.8*len(data1))),1]\n",
    "validationdata1=data1.iloc[range(math.floor(0.8*len(data1)),len(data1)),1]\n",
    "kernel=gp.kernels.Periodic(input_dim=1,variance=torch.tensor(20.),lengthscale=torch.tensor(1.))\n",
    "lower1,upper1,m2,m3,cov1,p1,Rsq1=GPenergy2(x,x1,data3,validationdata1,kernel,meanf=lambda x: 0.2)"
   ]
  },
  {
   "cell_type": "code",
   "execution_count": 2,
   "metadata": {},
   "outputs": [
    {
     "ename": "TypeError",
     "evalue": "Gaussiansparse() missing 2 required positional arguments: 'scaler' and 'scaler1'",
     "output_type": "error",
     "traceback": [
      "\u001b[1;31m---------------------------------------------------------------------------\u001b[0m",
      "\u001b[1;31mTypeError\u001b[0m                                 Traceback (most recent call last)",
      "\u001b[1;32m~\\AppData\\Local\\Temp/ipykernel_21408/1778373670.py\u001b[0m in \u001b[0;36m<module>\u001b[1;34m\u001b[0m\n\u001b[0;32m     26\u001b[0m \u001b[0mx1\u001b[0m\u001b[1;33m,\u001b[0m\u001b[0mx2\u001b[0m\u001b[1;33m,\u001b[0m\u001b[0mY1\u001b[0m\u001b[1;33m,\u001b[0m\u001b[0mY2\u001b[0m\u001b[1;33m,\u001b[0m\u001b[0mt1\u001b[0m\u001b[1;33m,\u001b[0m\u001b[0mt2\u001b[0m\u001b[1;33m=\u001b[0m\u001b[0msplitdata3\u001b[0m\u001b[1;33m(\u001b[0m\u001b[0mdf_1\u001b[0m\u001b[1;33m,\u001b[0m\u001b[1;34m'min'\u001b[0m\u001b[1;33m)\u001b[0m\u001b[1;33m\u001b[0m\u001b[1;33m\u001b[0m\u001b[0m\n\u001b[0;32m     27\u001b[0m \u001b[0mXu\u001b[0m\u001b[1;33m=\u001b[0m\u001b[0minducing_point_gamma\u001b[0m\u001b[1;33m(\u001b[0m\u001b[0mn\u001b[0m\u001b[1;33m=\u001b[0m\u001b[0mlen\u001b[0m\u001b[1;33m(\u001b[0m\u001b[0mx1\u001b[0m\u001b[1;33m)\u001b[0m\u001b[1;33m,\u001b[0m \u001b[0malpha\u001b[0m\u001b[1;33m=\u001b[0m\u001b[1;36m14.\u001b[0m\u001b[1;33m,\u001b[0m \u001b[0mbeta\u001b[0m\u001b[1;33m=\u001b[0m\u001b[0mfloat\u001b[0m\u001b[1;33m(\u001b[0m\u001b[1;36m1.5625\u001b[0m\u001b[1;33m*\u001b[0m\u001b[0mlen\u001b[0m\u001b[1;33m(\u001b[0m\u001b[0mx1\u001b[0m\u001b[1;33m)\u001b[0m\u001b[1;33m)\u001b[0m\u001b[1;33m,\u001b[0m\u001b[0mshift\u001b[0m\u001b[1;33m=\u001b[0m\u001b[0mlen\u001b[0m\u001b[1;33m(\u001b[0m\u001b[0mx1\u001b[0m\u001b[1;33m)\u001b[0m\u001b[1;33m/\u001b[0m\u001b[1;36m22.\u001b[0m\u001b[1;33m,\u001b[0m \u001b[0mnum_inducing\u001b[0m\u001b[1;33m=\u001b[0m\u001b[1;36m100\u001b[0m\u001b[1;33m,\u001b[0m \u001b[0mx1\u001b[0m\u001b[1;33m=\u001b[0m\u001b[0mx1\u001b[0m\u001b[1;33m)\u001b[0m\u001b[1;33m\u001b[0m\u001b[1;33m\u001b[0m\u001b[0m\n\u001b[1;32m---> 28\u001b[1;33m \u001b[0mpost_mean\u001b[0m\u001b[1;33m,\u001b[0m\u001b[0mpost_cov\u001b[0m\u001b[1;33m,\u001b[0m\u001b[0mR2\u001b[0m\u001b[1;33m=\u001b[0m\u001b[0mGaussiansparse\u001b[0m\u001b[1;33m(\u001b[0m\u001b[0mx1\u001b[0m\u001b[1;33m,\u001b[0m\u001b[0mx2\u001b[0m\u001b[1;33m,\u001b[0m\u001b[0mY1\u001b[0m\u001b[1;33m,\u001b[0m\u001b[0mY2\u001b[0m\u001b[1;33m,\u001b[0m\u001b[0mt1\u001b[0m\u001b[1;33m,\u001b[0m\u001b[0mt2\u001b[0m\u001b[1;33m,\u001b[0m\u001b[0mXu\u001b[0m\u001b[1;33m)\u001b[0m\u001b[1;33m\u001b[0m\u001b[1;33m\u001b[0m\u001b[0m\n\u001b[0m\u001b[0;32m     29\u001b[0m \u001b[1;31m#print(f'20{df_1.iloc[i,0][7:9]}')\u001b[0m\u001b[1;33m\u001b[0m\u001b[1;33m\u001b[0m\u001b[1;33m\u001b[0m\u001b[0m\n\u001b[0;32m     30\u001b[0m \u001b[1;31m#print(int(df_1.iloc[i,0][0:2]))\u001b[0m\u001b[1;33m\u001b[0m\u001b[1;33m\u001b[0m\u001b[1;33m\u001b[0m\u001b[0m\n",
      "\u001b[1;31mTypeError\u001b[0m: Gaussiansparse() missing 2 required positional arguments: 'scaler' and 'scaler1'"
     ]
    }
   ],
   "source": [
    "\n",
    "import numpy as np\n",
    "import pyro\n",
    "import pyro.contrib.gp as gp\n",
    "import math\n",
    "\n",
    "DIR_BASE='D:/Documents/OneDrive/Documents/Data Science/MaxKelsen/csenergy-internship/data/raw'\n",
    "FILE_HISTORY1=os.path.join(DIR_BASE,\"CapPrice.csv\")\n",
    "df_1=pd.read_csv(FILE_HISTORY1)\n",
    "df_1=df_1.iloc[range(0,10000),:]\n",
    "#m=df_.iloc[:,0].str[3:6]\n",
    "#x=np.empty([len(df_),5],dtype=object)\n",
    "#x[:,0]=df_.iloc[:,1]\n",
    "#x[m=='01',1]=1\n",
    "#x[m=='02',1]=2\n",
    "#x[m=='03',1]=3\n",
    "#x[m=='04',1]=4\n",
    "#x[m=='05',1]=5\n",
    "#x[m=='06',1]=6\n",
    "#x[m=='07',1]=7\n",
    "#x[m=='08',1]=8\n",
    "#x[m=='09',1]=9\n",
    "#x[m=='10',1]=10\n",
    "#x[m=='11',1]=11\n",
    "#x[m=='12',1]=12\n",
    "#df_1=df_1.iloc[range(0,50000),:]\n",
    "x1,x2,Y1,Y2,t1,t2=splitdata3(df_1,'min',scaler1,scaler)\n",
    "Xu=inducing_point_gamma(n=len(x1), alpha=14., beta=float(1.5625*len(x1)),shift=len(x1)/22., num_inducing=100, x1=x1)\n",
    "post_mean,post_cov,R2=Gaussiansparse(x1,x2,Y1,Y2,t1,t2,Xu,scaler,scaler1) \n",
    "#print(f'20{df_1.iloc[i,0][7:9]}')\n",
    "#print(int(df_1.iloc[i,0][0:2]))\n",
    "# print(df_1.iloc[i,0])"
   ]
  },
  {
   "cell_type": "code",
   "execution_count": 2,
   "metadata": {},
   "outputs": [
    {
     "name": "stdout",
     "output_type": "stream",
     "text": [
      "float64\n"
     ]
    }
   ],
   "source": [
    "import numpy as np\n",
    "import pyro\n",
    "import pyro.contrib.gp as gp\n",
    "import math\n",
    "\n",
    "DIR_BASE='D:/Documents/OneDrive/Documents/Data Science/MaxKelsen/csenergy-internship/data/raw'\n",
    "FILE_HISTORY1=os.path.join(DIR_BASE,\"Demand.csv\")\n",
    "df_1=pd.read_csv(FILE_HISTORY1)\n",
    "#print('01'==df_1.iloc[:,1].str[3:5])\n",
    "print((df_1.iloc[:,2]).dtypes)"
   ]
  },
  {
   "cell_type": "code",
   "execution_count": 10,
   "metadata": {},
   "outputs": [
    {
     "name": "stdout",
     "output_type": "stream",
     "text": [
      "205968\n",
      "205968\n"
     ]
    }
   ],
   "source": [
    "print(len(df_1))\n",
    "print(len(df_))"
   ]
  },
  {
   "cell_type": "code",
   "execution_count": 9,
   "metadata": {},
   "outputs": [
    {
     "ename": "NameError",
     "evalue": "name 'splitdata1' is not defined",
     "output_type": "error",
     "traceback": [
      "\u001b[1;31m---------------------------------------------------------------------------\u001b[0m",
      "\u001b[1;31mNameError\u001b[0m                                 Traceback (most recent call last)",
      "\u001b[1;32m~\\AppData\\Local\\Temp/ipykernel_22776/2186489585.py\u001b[0m in \u001b[0;36m<module>\u001b[1;34m\u001b[0m\n\u001b[0;32m      7\u001b[0m \u001b[0mdf_\u001b[0m\u001b[1;33m=\u001b[0m\u001b[0mpd\u001b[0m\u001b[1;33m.\u001b[0m\u001b[0mread_csv\u001b[0m\u001b[1;33m(\u001b[0m\u001b[0mFILE_HISTORY\u001b[0m\u001b[1;33m)\u001b[0m\u001b[1;33m\u001b[0m\u001b[1;33m\u001b[0m\u001b[0m\n\u001b[0;32m      8\u001b[0m \u001b[1;31m#df_=df_.iloc[range(0,45000),:]\u001b[0m\u001b[1;33m\u001b[0m\u001b[1;33m\u001b[0m\u001b[1;33m\u001b[0m\u001b[0m\n\u001b[1;32m----> 9\u001b[1;33m \u001b[0mxg\u001b[0m\u001b[1;33m,\u001b[0m\u001b[0mdata\u001b[0m\u001b[1;33m=\u001b[0m\u001b[0msplitdata1\u001b[0m\u001b[1;33m(\u001b[0m\u001b[0mdf_\u001b[0m\u001b[1;33m,\u001b[0m\u001b[1;34m'Jan'\u001b[0m\u001b[1;33m,\u001b[0m \u001b[1;34m'Workdays'\u001b[0m\u001b[1;33m)\u001b[0m\u001b[1;33m\u001b[0m\u001b[1;33m\u001b[0m\u001b[0m\n\u001b[0m\u001b[0;32m     10\u001b[0m \u001b[0mdata1\u001b[0m\u001b[1;33m=\u001b[0m\u001b[0mdata\u001b[0m\u001b[1;33m.\u001b[0m\u001b[0miloc\u001b[0m\u001b[1;33m[\u001b[0m\u001b[0mrange\u001b[0m\u001b[1;33m(\u001b[0m\u001b[1;36m0\u001b[0m\u001b[1;33m,\u001b[0m\u001b[0mmath\u001b[0m\u001b[1;33m.\u001b[0m\u001b[0mfloor\u001b[0m\u001b[1;33m(\u001b[0m\u001b[1;36m0.8\u001b[0m\u001b[1;33m*\u001b[0m\u001b[0mlen\u001b[0m\u001b[1;33m(\u001b[0m\u001b[0mdata\u001b[0m\u001b[1;33m)\u001b[0m\u001b[1;33m)\u001b[0m\u001b[1;33m)\u001b[0m\u001b[1;33m]\u001b[0m\u001b[1;33m\u001b[0m\u001b[1;33m\u001b[0m\u001b[0m\n\u001b[0;32m     11\u001b[0m \u001b[0mx\u001b[0m\u001b[1;33m=\u001b[0m\u001b[0mxg\u001b[0m\u001b[1;33m[\u001b[0m\u001b[0mrange\u001b[0m\u001b[1;33m(\u001b[0m\u001b[1;36m0\u001b[0m\u001b[1;33m,\u001b[0m\u001b[0mmath\u001b[0m\u001b[1;33m.\u001b[0m\u001b[0mfloor\u001b[0m\u001b[1;33m(\u001b[0m\u001b[1;36m0.8\u001b[0m\u001b[1;33m*\u001b[0m\u001b[0mlen\u001b[0m\u001b[1;33m(\u001b[0m\u001b[0mdata\u001b[0m\u001b[1;33m)\u001b[0m\u001b[1;33m)\u001b[0m\u001b[1;33m)\u001b[0m\u001b[1;33m]\u001b[0m\u001b[1;33m\u001b[0m\u001b[1;33m\u001b[0m\u001b[0m\n",
      "\u001b[1;31mNameError\u001b[0m: name 'splitdata1' is not defined"
     ]
    }
   ],
   "source": [
    "import numpy as np\n",
    "import pyro\n",
    "import pyro.contrib.gp as gp\n",
    "import math\n",
    "DIR_BASE = 'D:/documents'\n",
    "FILE_HISTORY = os.path.join(DIR_BASE, \"CapPrice.csv\")\n",
    "df_=pd.read_csv(FILE_HISTORY)\n",
    "#df_=df_.iloc[range(0,45000),:]\n",
    "xg,data=splitdata1(df_,'Jan', 'Workdays')\n",
    "data1=data.iloc[range(0,math.floor(0.8*len(data)))]\n",
    "x=xg[range(0,math.floor(0.8*len(data)))]\n",
    "x1=xg[range(math.floor(0.8*len(data)),len(data))]\n",
    "validationdata=data.iloc[range(math.floor(0.8*len(data)),len(data))]\n",
    "#kernel = gp.kernels.RBF(input_dim=1, variance=torch.tensor(5.),\n",
    "                        #lengthscale=torch.tensor(10.))\n",
    "kernel= gp.kernels.Polynomial(input_dim=1)\n",
    "#kernel=gp.kernels.Sum(gp.kernels.Periodic(input_dim=1,period=torch.tensor(48.)),gp.kernels.RBF(input_dim=1))\n",
    "#,gp.kernels.Periodic(input_dim=1,period=torch.tensor(240.)))\n",
    "#gp.kernels.Periodic(input_dim=1,period=torch.tensor(1440.)))\n",
    "#kernel=gp.kernels.Sum(kernel1,gp.kernels.Periodic(input_dim=1,period=torch.tensor(240.)))\n",
    "#kernel = gp.kernels.Periodic(input_dim=1,period=torch.tensor(48.))\n",
    "                       # lengthscale=torch.tensor(10.))\n",
    "#print('hello')\n",
    "lower,upper,m,cov,p,Rsq=GPenergy1(x,x1,data1,validationdata,kernel)\n",
    "D=np.floor(len(validationdata)/48)\n",
    "D1 = np.empty(D, dtype=object)#plt.plot(model=gpr, plot_observed_data=True, plot_predictions=True)\n",
    "R=len(validationdata)%48\n",
    "for i in range(0,D):\n",
    "     C=np.empty(48,dtype=object)\n",
    "     sum=0\n",
    "     for j in range(0,48):\n",
    "        C[j]=p_value[j]\n",
    "        sum=sum+p_value[j]\n",
    "     C=C/sum\n",
    "     D1[R+i*D]=C\n",
    "\n",
    "#x=[]\n",
    "#for i in range(1,len(df_)+1):\n",
    "        \n",
    "       # x.append(i)\n",
    "#x=torch.tensor([x]) \n",
    "#torch.Tensor(x)\n",
    "#torch.from_numpy(x)\n"
   ]
  },
  {
   "cell_type": "code",
   "execution_count": 4,
   "metadata": {},
   "outputs": [
    {
     "name": "stdout",
     "output_type": "stream",
     "text": [
      "10176\n"
     ]
    }
   ],
   "source": [
    "print(len(x))"
   ]
  },
  {
   "cell_type": "code",
   "execution_count": 5,
   "metadata": {},
   "outputs": [
    {
     "name": "stdout",
     "output_type": "stream",
     "text": [
      "-0.06677792018402484\n"
     ]
    }
   ],
   "source": [
    "print(Rsq1)"
   ]
  },
  {
   "cell_type": "code",
   "execution_count": 8,
   "metadata": {},
   "outputs": [
    {
     "name": "stdout",
     "output_type": "stream",
     "text": [
      "Test Statistic                -1.476173e+01\n",
      "p-value                        2.396476e-27\n",
      "#lags used                     5.700000e+01\n",
      "number of observations used    4.994200e+04\n",
      "critical value (1%)           -3.430481e+00\n",
      "critical value (5%)           -2.861598e+00\n",
      "critical value (10%)          -2.566801e+00\n",
      "dtype: float64\n"
     ]
    }
   ],
   "source": [
    "from statsmodels.tsa.stattools import adfuller\n",
    "dftest = adfuller(df_1.iloc[:,2],autolag='AIC')\n",
    "dfoutput=pd.Series(dftest[0:4],index=['Test Statistic','p-value','#lags used','number of observations used'])\n",
    "for key,value in dftest[4].items():\n",
    "    dfoutput['critical value (%s)'%key]= value\n",
    "print(dfoutput)"
   ]
  },
  {
   "cell_type": "code",
   "execution_count": 11,
   "metadata": {},
   "outputs": [
    {
     "data": {
      "text/plain": [
       "[<matplotlib.lines.Line2D at 0x260baac8100>]"
      ]
     },
     "execution_count": 11,
     "metadata": {},
     "output_type": "execute_result"
    },
    {
     "data": {
      "image/png": "[encoded data removed]",
      "text/plain": [
       "<Figure size 432x288 with 1 Axes>"
      ]
     },
     "metadata": {
      "needs_background": "light"
     },
     "output_type": "display_data"
    }
   ],
   "source": [
    "x=np.empty(len(data),dtype=object)\n",
    "x1=np.empty(len(validationdata),dtype=object)\n",
    "for i in range(1,len(data)+1):\n",
    "  x[i-1]=i\n",
    "for j in range(len(data)+1,len(data)+1+len(validationdata)):\n",
    "  x1[j-len(data)-1]=j\n",
    "import matplotlib.pyplot as plt\n",
    "plt.plot(x1,validationdata,label='Spot Price')"
   ]
  },
  {
   "cell_type": "code",
   "execution_count": 6,
   "metadata": {},
   "outputs": [
    {
     "name": "stdout",
     "output_type": "stream",
     "text": [
      "[71.454254 79.01361  84.63393  ... 76.73581  53.680492 42.770275]\n"
     ]
    }
   ],
   "source": [
    "print(m.detach().numpy())"
   ]
  },
  {
   "cell_type": "code",
   "execution_count": 6,
   "metadata": {},
   "outputs": [
    {
     "name": "stdout",
     "output_type": "stream",
     "text": [
      "96\n",
      "96\n",
      "48\n"
     ]
    }
   ],
   "source": [
    "import numpy as np\n",
    "DIR_BASE = 'D:/documents'\n",
    "FILE_HISTORY = os.path.join(DIR_BASE, \"CapPrice.csv\")\n",
    "df_=pd.read_csv(FILE_HISTORY)\n",
    "df_=df_.iloc[range(0,15000),:]\n",
    "s=np.empty(len(df_),dtype=object)\n",
    "s[df_.iloc[:,3]>0]=1\n",
    "s[df_.iloc[:,3]==0]=0\n",
    "#df_=df_.iloc[range(0,15000),:]\n",
    "#m=df_.iloc[:,0].str[3:6]\n",
    "#arr = np.empty(len(df_), dtype=object)\n",
    "#arr[m=='Jan']=1\n",
    "#arr[m=='Feb']=2\n",
    "#arr[m=='Mar']=3\n",
    "#arr[m=='Apr']=4\n",
    "#arr[m=='May']=5\n",
    "#arr[m=='Jun']=6\n",
    "#arr[m=='Jul']=7\n",
    "#arr[m=='Aug']=8\n",
    "#arr[m=='Sep']=9\n",
    "#arr[m=='Oct']=10\n",
    "#arr[m=='Nov']=11\n",
    "#arr[m=='Dec']=12\n",
    "#x=week(1,df_,arr)\n",
    "#data2,E,s=formatting(df_,'Jan',2010)\n",
    "#2011,2012,2013,2014,2015,2016,2017,2018,2019,2020,2021\n",
    "#,rearrange(10,df_)\n",
    "x,x1=relfreq(df_,'Workdays',2010,('Jan'))\n",
    "#x,x1=relfreq(df_,'Non Workdays',(2010),('May','Jun','Jul','Aug','Sep','Oct'))\n",
    "#print(E==0)\n"
   ]
  },
  {
   "cell_type": "code",
   "execution_count": 14,
   "metadata": {},
   "outputs": [
    {
     "name": "stdout",
     "output_type": "stream",
     "text": [
      "Collecting pmdarima\n",
      "  Downloading pmdarima-1.8.4-cp39-cp39-win_amd64.whl (600 kB)\n",
      "Requirement already satisfied: joblib>=0.11 in c:\\users\\william\\appdata\\local\\programs\\python\\python39\\lib\\site-packages (from pmdarima) (1.0.1)\n",
      "Requirement already satisfied: setuptools!=50.0.0,>=38.6.0 in c:\\users\\william\\appdata\\local\\programs\\python\\python39\\lib\\site-packages (from pmdarima) (49.2.1)\n",
      "Requirement already satisfied: scipy>=1.3.2 in c:\\users\\william\\appdata\\local\\programs\\python\\python39\\lib\\site-packages (from pmdarima) (1.6.3)\n",
      "Requirement already satisfied: urllib3 in c:\\users\\william\\appdata\\roaming\\python\\python39\\site-packages (from pmdarima) (1.26.4)\n",
      "Collecting Cython!=0.29.18,>=0.29\n",
      "  Downloading Cython-0.29.26-py2.py3-none-any.whl (983 kB)\n",
      "Requirement already satisfied: statsmodels!=0.12.0,>=0.11 in c:\\users\\william\\appdata\\local\\programs\\python\\python39\\lib\\site-packages (from pmdarima) (0.12.2)\n",
      "Requirement already satisfied: scikit-learn>=0.22 in c:\\users\\william\\appdata\\local\\programs\\python\\python39\\lib\\site-packages (from pmdarima) (0.24.2)\n",
      "Requirement already satisfied: pandas>=0.19 in c:\\users\\william\\appdata\\local\\programs\\python\\python39\\lib\\site-packages (from pmdarima) (1.2.4)\n",
      "Requirement already satisfied: numpy>=1.19.3 in c:\\users\\william\\appdata\\roaming\\python\\python39\\site-packages (from pmdarima) (1.19.5)\n",
      "Requirement already satisfied: python-dateutil>=2.7.3 in c:\\users\\william\\appdata\\local\\programs\\python\\python39\\lib\\site-packages (from pandas>=0.19->pmdarima) (2.8.1)\n",
      "Requirement already satisfied: pytz>=2017.3 in c:\\users\\william\\appdata\\local\\programs\\python\\python39\\lib\\site-packages (from pandas>=0.19->pmdarima) (2021.1)\n",
      "Requirement already satisfied: six>=1.5 in c:\\users\\william\\appdata\\roaming\\python\\python39\\site-packages (from python-dateutil>=2.7.3->pandas>=0.19->pmdarima) (1.15.0)\n",
      "Requirement already satisfied: threadpoolctl>=2.0.0 in c:\\users\\william\\appdata\\local\\programs\\python\\python39\\lib\\site-packages (from scikit-learn>=0.22->pmdarima) (2.1.0)\n",
      "Requirement already satisfied: patsy>=0.5 in c:\\users\\william\\appdata\\local\\programs\\python\\python39\\lib\\site-packages (from statsmodels!=0.12.0,>=0.11->pmdarima) (0.5.1)\n",
      "Installing collected packages: Cython, pmdarima\n",
      "Successfully installed Cython-0.29.26 pmdarima-1.8.4\n"
     ]
    },
    {
     "name": "stderr",
     "output_type": "stream",
     "text": [
      "WARNING: Value for scheme.headers does not match. Please report this to <https://github.com/pypa/pip/issues/9617>\n",
      "distutils: c:\\users\\william\\appdata\\local\\programs\\python\\python39\\Include\\UNKNOWN\n",
      "sysconfig: c:\\users\\william\\appdata\\local\\programs\\python\\python39\\Include\n",
      "WARNING: Additional context:\n",
      "user = False\n",
      "home = None\n",
      "root = None\n",
      "prefix = None\n",
      "WARNING: Value for scheme.headers does not match. Please report this to <https://github.com/pypa/pip/issues/9617>\n",
      "distutils: c:\\users\\william\\appdata\\local\\programs\\python\\python39\\Include\\UNKNOWN\n",
      "sysconfig: c:\\users\\william\\appdata\\local\\programs\\python\\python39\\Include\n",
      "WARNING: Additional context:\n",
      "user = False\n",
      "home = None\n",
      "root = None\n",
      "prefix = None\n",
      "WARNING: You are using pip version 21.1; however, version 21.3.1 is available.\n",
      "You should consider upgrading via the 'c:\\users\\william\\appdata\\local\\programs\\python\\python39\\python.exe -m pip install --upgrade pip' command.\n"
     ]
    }
   ],
   "source": [
    "!pip install pmdarima"
   ]
  },
  {
   "cell_type": "code",
   "execution_count": 1,
   "metadata": {},
   "outputs": [
    {
     "name": "stderr",
     "output_type": "stream",
     "text": [
      "The system cannot find the path specified.\n"
     ]
    }
   ],
   "source": [
    "echo 1 > /proc/sys/vm/overcommit_memory"
   ]
  },
  {
   "cell_type": "code",
   "execution_count": 6,
   "metadata": {},
   "outputs": [
    {
     "name": "stdout",
     "output_type": "stream",
     "text": [
      "Performing stepwise search to minimize aic\n",
      " ARIMA(2,1,2)(1,0,1)[48] intercept   : AIC=inf, Time=39.91 sec\n",
      " ARIMA(0,1,0)(0,0,0)[48] intercept   : AIC=130100.825, Time=0.12 sec\n",
      " ARIMA(1,1,0)(1,0,0)[48] intercept   : AIC=inf, Time=30.71 sec\n",
      " ARIMA(0,1,1)(0,0,1)[48] intercept   : AIC=122530.084, Time=24.12 sec\n",
      " ARIMA(0,1,0)(0,0,0)[48]             : AIC=130098.832, Time=0.07 sec\n",
      " ARIMA(0,1,1)(0,0,0)[48] intercept   : AIC=124902.943, Time=0.56 sec\n",
      " ARIMA(0,1,1)(1,0,1)[48] intercept   : AIC=inf, Time=25.35 sec\n",
      " ARIMA(0,1,1)(0,0,2)[48] intercept   : AIC=inf, Time=202.20 sec\n",
      " ARIMA(0,1,1)(1,0,0)[48] intercept   : AIC=120649.768, Time=28.71 sec\n",
      " ARIMA(0,1,1)(2,0,0)[48] intercept   : AIC=120253.106, Time=175.04 sec\n",
      " ARIMA(0,1,1)(2,0,1)[48] intercept   : AIC=inf, Time=188.60 sec\n"
     ]
    },
    {
     "ename": "MemoryError",
     "evalue": "Unable to allocate 730. MiB for an array with shape (97, 97, 10176) and data type float64",
     "output_type": "error",
     "traceback": [
      "\u001b[1;31m---------------------------------------------------------------------------\u001b[0m",
      "\u001b[1;31mMemoryError\u001b[0m                               Traceback (most recent call last)",
      "\u001b[1;32mstatsmodels\\tsa\\statespace\\_kalman_smoother.pyx\u001b[0m in \u001b[0;36mstatsmodels.tsa.statespace._kalman_smoother.dKalmanSmoother.allocate_arrays\u001b[1;34m()\u001b[0m\n",
      "\u001b[1;31mMemoryError\u001b[0m: Unable to allocate 730. MiB for an array with shape (97, 97, 10176) and data type float64"
     ]
    }
   ],
   "source": [
    "import pmdarima as pm\n",
    "#import sklearn\n",
    "arima = pm.auto_arima(data2, error_action='ignore', trace=True,\n",
    "                      suppress_warnings=True, maxiter=5,\n",
    "                      seasonal=True, m=48)\n",
    "\n",
    "y=arima.predict(start=(len(data2)+1),end=(len(data2)+len(validationdata)))\n",
    "Rsq=sklearn.metrics.r2_score(validationdata,y)"
   ]
  },
  {
   "cell_type": "code",
   "execution_count": 30,
   "metadata": {},
   "outputs": [
    {
     "name": "stdout",
     "output_type": "stream",
     "text": [
      "-0.20364237959030218\n"
     ]
    }
   ],
   "source": [
    "y1=arima.predict(n_periods=len(validationdata))\n",
    "Rsq=sklearn.metrics.r2_score(validationdata,y1)\n",
    "print(Rsq)"
   ]
  },
  {
   "cell_type": "code",
   "execution_count": 20,
   "metadata": {},
   "outputs": [
    {
     "name": "stdout",
     "output_type": "stream",
     "text": [
      "10177\n",
      "12720\n",
      "[108.58570973 109.01918357 109.23776998 109.57061627 109.62099913\n",
      " 109.80821059 109.80861073 109.91506028 109.89988861 109.96249865]\n"
     ]
    }
   ],
   "source": [
    "import sklearn\n",
    "y=arima.predict(start=(len(data1)+1),end=(len(data1)+len(validationdata)))\n",
    "print(len(data1)+1)\n",
    "print((len(data1)+len(validationdata)))\n",
    "print(y)\n",
    "#Rsq=sklearn.metrics.r2_score(validationdata,y)"
   ]
  },
  {
   "cell_type": "code",
   "execution_count": 33,
   "metadata": {},
   "outputs": [
    {
     "name": "stdout",
     "output_type": "stream",
     "text": [
      "Performing stepwise search to minimize aic\n"
     ]
    },
    {
     "ename": "MemoryError",
     "evalue": "Unable to allocate 4.51 GiB for an array with shape (244, 244, 10176) and data type float64",
     "output_type": "error",
     "traceback": [
      "\u001b[1;31m---------------------------------------------------------------------------\u001b[0m",
      "\u001b[1;31mMemoryError\u001b[0m                               Traceback (most recent call last)",
      "\u001b[1;32m~\\AppData\\Local\\Temp/ipykernel_3280/1162265506.py\u001b[0m in \u001b[0;36m<module>\u001b[1;34m\u001b[0m\n\u001b[0;32m      1\u001b[0m \u001b[1;32mimport\u001b[0m \u001b[0mpmdarima\u001b[0m \u001b[1;32mas\u001b[0m \u001b[0mpm\u001b[0m\u001b[1;33m\u001b[0m\u001b[1;33m\u001b[0m\u001b[0m\n\u001b[0;32m      2\u001b[0m \u001b[1;31m#import sklearn\u001b[0m\u001b[1;33m\u001b[0m\u001b[1;33m\u001b[0m\u001b[1;33m\u001b[0m\u001b[0m\n\u001b[1;32m----> 3\u001b[1;33m arima = pm.auto_arima(data1, error_action='ignore', trace=True,\n\u001b[0m\u001b[0;32m      4\u001b[0m                       \u001b[0msuppress_warnings\u001b[0m\u001b[1;33m=\u001b[0m\u001b[1;32mTrue\u001b[0m\u001b[1;33m,\u001b[0m \u001b[0mmaxiter\u001b[0m\u001b[1;33m=\u001b[0m\u001b[1;36m5\u001b[0m\u001b[1;33m,\u001b[0m\u001b[1;33m\u001b[0m\u001b[1;33m\u001b[0m\u001b[0m\n\u001b[0;32m      5\u001b[0m                       seasonal=True, m=240)\n",
      "\u001b[1;32m~\\AppData\\Local\\Programs\\Python\\Python39\\lib\\site-packages\\pmdarima\\arima\\auto.py\u001b[0m in \u001b[0;36mauto_arima\u001b[1;34m(y, X, start_p, d, start_q, max_p, max_d, max_q, start_P, D, start_Q, max_P, max_D, max_Q, max_order, m, seasonal, stationary, information_criterion, alpha, test, seasonal_test, stepwise, n_jobs, start_params, trend, method, maxiter, offset_test_args, seasonal_test_args, suppress_warnings, error_action, trace, random, random_state, n_fits, return_valid_fits, out_of_sample_size, scoring, scoring_args, with_intercept, sarimax_kwargs, **fit_args)\u001b[0m\n\u001b[0;32m    715\u001b[0m         )\n\u001b[0;32m    716\u001b[0m \u001b[1;33m\u001b[0m\u001b[0m\n\u001b[1;32m--> 717\u001b[1;33m     \u001b[0msorted_res\u001b[0m \u001b[1;33m=\u001b[0m \u001b[0msearch\u001b[0m\u001b[1;33m.\u001b[0m\u001b[0msolve\u001b[0m\u001b[1;33m(\u001b[0m\u001b[1;33m)\u001b[0m\u001b[1;33m\u001b[0m\u001b[1;33m\u001b[0m\u001b[0m\n\u001b[0m\u001b[0;32m    718\u001b[0m     \u001b[1;32mreturn\u001b[0m \u001b[0m_return_wrapper\u001b[0m\u001b[1;33m(\u001b[0m\u001b[0msorted_res\u001b[0m\u001b[1;33m,\u001b[0m \u001b[0mreturn_valid_fits\u001b[0m\u001b[1;33m,\u001b[0m \u001b[0mstart\u001b[0m\u001b[1;33m,\u001b[0m \u001b[0mtrace\u001b[0m\u001b[1;33m)\u001b[0m\u001b[1;33m\u001b[0m\u001b[1;33m\u001b[0m\u001b[0m\n\u001b[0;32m    719\u001b[0m \u001b[1;33m\u001b[0m\u001b[0m\n",
      "\u001b[1;32m~\\AppData\\Local\\Programs\\Python\\Python39\\lib\\site-packages\\pmdarima\\arima\\_auto_solvers.py\u001b[0m in \u001b[0;36msolve\u001b[1;34m(self)\u001b[0m\n\u001b[0;32m    284\u001b[0m \u001b[1;33m\u001b[0m\u001b[0m\n\u001b[0;32m    285\u001b[0m         \u001b[1;31m# fit a baseline p, d, q model\u001b[0m\u001b[1;33m\u001b[0m\u001b[1;33m\u001b[0m\u001b[1;33m\u001b[0m\u001b[0m\n\u001b[1;32m--> 286\u001b[1;33m         \u001b[0mself\u001b[0m\u001b[1;33m.\u001b[0m\u001b[0m_do_fit\u001b[0m\u001b[1;33m(\u001b[0m\u001b[1;33m(\u001b[0m\u001b[0mp\u001b[0m\u001b[1;33m,\u001b[0m \u001b[0md\u001b[0m\u001b[1;33m,\u001b[0m \u001b[0mq\u001b[0m\u001b[1;33m)\u001b[0m\u001b[1;33m,\u001b[0m \u001b[1;33m(\u001b[0m\u001b[0mP\u001b[0m\u001b[1;33m,\u001b[0m \u001b[0mD\u001b[0m\u001b[1;33m,\u001b[0m \u001b[0mQ\u001b[0m\u001b[1;33m,\u001b[0m \u001b[0mm\u001b[0m\u001b[1;33m)\u001b[0m\u001b[1;33m)\u001b[0m\u001b[1;33m\u001b[0m\u001b[1;33m\u001b[0m\u001b[0m\n\u001b[0m\u001b[0;32m    287\u001b[0m \u001b[1;33m\u001b[0m\u001b[0m\n\u001b[0;32m    288\u001b[0m         \u001b[1;31m# null model with possible constant\u001b[0m\u001b[1;33m\u001b[0m\u001b[1;33m\u001b[0m\u001b[1;33m\u001b[0m\u001b[0m\n",
      "\u001b[1;32m~\\AppData\\Local\\Programs\\Python\\Python39\\lib\\site-packages\\pmdarima\\arima\\_auto_solvers.py\u001b[0m in \u001b[0;36m_do_fit\u001b[1;34m(self, order, seasonal_order, constant)\u001b[0m\n\u001b[0;32m    231\u001b[0m             \u001b[0mself\u001b[0m\u001b[1;33m.\u001b[0m\u001b[0mk\u001b[0m \u001b[1;33m+=\u001b[0m \u001b[1;36m1\u001b[0m\u001b[1;33m\u001b[0m\u001b[1;33m\u001b[0m\u001b[0m\n\u001b[0;32m    232\u001b[0m \u001b[1;33m\u001b[0m\u001b[0m\n\u001b[1;32m--> 233\u001b[1;33m             fit, fit_time, new_ic = self._fit_arima(\n\u001b[0m\u001b[0;32m    234\u001b[0m                 \u001b[0morder\u001b[0m\u001b[1;33m=\u001b[0m\u001b[0morder\u001b[0m\u001b[1;33m,\u001b[0m\u001b[1;33m\u001b[0m\u001b[1;33m\u001b[0m\u001b[0m\n\u001b[0;32m    235\u001b[0m                 \u001b[0mseasonal_order\u001b[0m\u001b[1;33m=\u001b[0m\u001b[0mseasonal_order\u001b[0m\u001b[1;33m,\u001b[0m\u001b[1;33m\u001b[0m\u001b[1;33m\u001b[0m\u001b[0m\n",
      "\u001b[1;32m~\\AppData\\Local\\Programs\\Python\\Python39\\lib\\site-packages\\pmdarima\\arima\\_auto_solvers.py\u001b[0m in \u001b[0;36m_fit_candidate_model\u001b[1;34m(y, X, order, seasonal_order, start_params, trend, method, maxiter, fit_params, suppress_warnings, trace, error_action, out_of_sample_size, scoring, scoring_args, with_intercept, information_criterion, **kwargs)\u001b[0m\n\u001b[0;32m    504\u001b[0m \u001b[1;33m\u001b[0m\u001b[0m\n\u001b[0;32m    505\u001b[0m     \u001b[1;32mtry\u001b[0m\u001b[1;33m:\u001b[0m\u001b[1;33m\u001b[0m\u001b[1;33m\u001b[0m\u001b[0m\n\u001b[1;32m--> 506\u001b[1;33m         \u001b[0mfit\u001b[0m\u001b[1;33m.\u001b[0m\u001b[0mfit\u001b[0m\u001b[1;33m(\u001b[0m\u001b[0my\u001b[0m\u001b[1;33m,\u001b[0m \u001b[0mX\u001b[0m\u001b[1;33m=\u001b[0m\u001b[0mX\u001b[0m\u001b[1;33m,\u001b[0m \u001b[1;33m**\u001b[0m\u001b[0mfit_params\u001b[0m\u001b[1;33m)\u001b[0m\u001b[1;33m\u001b[0m\u001b[1;33m\u001b[0m\u001b[0m\n\u001b[0m\u001b[0;32m    507\u001b[0m \u001b[1;33m\u001b[0m\u001b[0m\n\u001b[0;32m    508\u001b[0m     \u001b[1;31m# for non-stationarity errors or singular matrices, return None\u001b[0m\u001b[1;33m\u001b[0m\u001b[1;33m\u001b[0m\u001b[1;33m\u001b[0m\u001b[0m\n",
      "\u001b[1;32m~\\AppData\\Local\\Programs\\Python\\Python39\\lib\\site-packages\\pmdarima\\arima\\arima.py\u001b[0m in \u001b[0;36mfit\u001b[1;34m(self, y, X, **fit_args)\u001b[0m\n\u001b[0;32m    595\u001b[0m \u001b[1;33m\u001b[0m\u001b[0m\n\u001b[0;32m    596\u001b[0m         \u001b[1;31m# Internal call\u001b[0m\u001b[1;33m\u001b[0m\u001b[1;33m\u001b[0m\u001b[1;33m\u001b[0m\u001b[0m\n\u001b[1;32m--> 597\u001b[1;33m         \u001b[0mself\u001b[0m\u001b[1;33m.\u001b[0m\u001b[0m_fit\u001b[0m\u001b[1;33m(\u001b[0m\u001b[0my\u001b[0m\u001b[1;33m,\u001b[0m \u001b[0mX\u001b[0m\u001b[1;33m,\u001b[0m \u001b[1;33m**\u001b[0m\u001b[0mfit_args\u001b[0m\u001b[1;33m)\u001b[0m\u001b[1;33m\u001b[0m\u001b[1;33m\u001b[0m\u001b[0m\n\u001b[0m\u001b[0;32m    598\u001b[0m \u001b[1;33m\u001b[0m\u001b[0m\n\u001b[0;32m    599\u001b[0m         \u001b[1;31m# now make a forecast if we're validating to compute the\u001b[0m\u001b[1;33m\u001b[0m\u001b[1;33m\u001b[0m\u001b[1;33m\u001b[0m\u001b[0m\n",
      "\u001b[1;32m~\\AppData\\Local\\Programs\\Python\\Python39\\lib\\site-packages\\pmdarima\\arima\\arima.py\u001b[0m in \u001b[0;36m_fit\u001b[1;34m(self, y, X, **fit_args)\u001b[0m\n\u001b[0;32m    516\u001b[0m             \u001b[1;32mwith\u001b[0m \u001b[0mwarnings\u001b[0m\u001b[1;33m.\u001b[0m\u001b[0mcatch_warnings\u001b[0m\u001b[1;33m(\u001b[0m\u001b[0mrecord\u001b[0m\u001b[1;33m=\u001b[0m\u001b[1;32mFalse\u001b[0m\u001b[1;33m)\u001b[0m\u001b[1;33m:\u001b[0m\u001b[1;33m\u001b[0m\u001b[1;33m\u001b[0m\u001b[0m\n\u001b[0;32m    517\u001b[0m                 \u001b[0mwarnings\u001b[0m\u001b[1;33m.\u001b[0m\u001b[0msimplefilter\u001b[0m\u001b[1;33m(\u001b[0m\u001b[1;34m'ignore'\u001b[0m\u001b[1;33m)\u001b[0m\u001b[1;33m\u001b[0m\u001b[1;33m\u001b[0m\u001b[0m\n\u001b[1;32m--> 518\u001b[1;33m                 \u001b[0mfit\u001b[0m\u001b[1;33m,\u001b[0m \u001b[0mself\u001b[0m\u001b[1;33m.\u001b[0m\u001b[0marima_res_\u001b[0m \u001b[1;33m=\u001b[0m \u001b[0m_fit_wrapper\u001b[0m\u001b[1;33m(\u001b[0m\u001b[1;33m)\u001b[0m\u001b[1;33m\u001b[0m\u001b[1;33m\u001b[0m\u001b[0m\n\u001b[0m\u001b[0;32m    519\u001b[0m         \u001b[1;32melse\u001b[0m\u001b[1;33m:\u001b[0m\u001b[1;33m\u001b[0m\u001b[1;33m\u001b[0m\u001b[0m\n\u001b[0;32m    520\u001b[0m             \u001b[0mfit\u001b[0m\u001b[1;33m,\u001b[0m \u001b[0mself\u001b[0m\u001b[1;33m.\u001b[0m\u001b[0marima_res_\u001b[0m \u001b[1;33m=\u001b[0m \u001b[0m_fit_wrapper\u001b[0m\u001b[1;33m(\u001b[0m\u001b[1;33m)\u001b[0m\u001b[1;33m\u001b[0m\u001b[1;33m\u001b[0m\u001b[0m\n",
      "\u001b[1;32m~\\AppData\\Local\\Programs\\Python\\Python39\\lib\\site-packages\\pmdarima\\arima\\arima.py\u001b[0m in \u001b[0;36m_fit_wrapper\u001b[1;34m()\u001b[0m\n\u001b[0;32m    506\u001b[0m             \u001b[0mdisp\u001b[0m \u001b[1;33m=\u001b[0m \u001b[0mfit_args\u001b[0m\u001b[1;33m.\u001b[0m\u001b[0mpop\u001b[0m\u001b[1;33m(\u001b[0m\u001b[1;34m\"disp\"\u001b[0m\u001b[1;33m,\u001b[0m \u001b[1;36m0\u001b[0m\u001b[1;33m)\u001b[0m\u001b[1;33m\u001b[0m\u001b[1;33m\u001b[0m\u001b[0m\n\u001b[0;32m    507\u001b[0m \u001b[1;33m\u001b[0m\u001b[0m\n\u001b[1;32m--> 508\u001b[1;33m             return arima, arima.fit(start_params=start_params,\n\u001b[0m\u001b[0;32m    509\u001b[0m                                     \u001b[0mmethod\u001b[0m\u001b[1;33m=\u001b[0m\u001b[0mmethod\u001b[0m\u001b[1;33m,\u001b[0m\u001b[1;33m\u001b[0m\u001b[1;33m\u001b[0m\u001b[0m\n\u001b[0;32m    510\u001b[0m                                     \u001b[0mmaxiter\u001b[0m\u001b[1;33m=\u001b[0m\u001b[0m_maxiter\u001b[0m\u001b[1;33m,\u001b[0m\u001b[1;33m\u001b[0m\u001b[1;33m\u001b[0m\u001b[0m\n",
      "\u001b[1;32m~\\AppData\\Local\\Programs\\Python\\Python39\\lib\\site-packages\\statsmodels\\tsa\\statespace\\mlemodel.py\u001b[0m in \u001b[0;36mfit\u001b[1;34m(self, start_params, transformed, includes_fixed, cov_type, cov_kwds, method, maxiter, full_output, disp, callback, return_params, optim_score, optim_complex_step, optim_hessian, flags, low_memory, **kwargs)\u001b[0m\n\u001b[0;32m    712\u001b[0m             \u001b[1;32melse\u001b[0m\u001b[1;33m:\u001b[0m\u001b[1;33m\u001b[0m\u001b[1;33m\u001b[0m\u001b[0m\n\u001b[0;32m    713\u001b[0m                 \u001b[0mfunc\u001b[0m \u001b[1;33m=\u001b[0m \u001b[0mself\u001b[0m\u001b[1;33m.\u001b[0m\u001b[0msmooth\u001b[0m\u001b[1;33m\u001b[0m\u001b[1;33m\u001b[0m\u001b[0m\n\u001b[1;32m--> 714\u001b[1;33m             res = func(mlefit.params, transformed=False, includes_fixed=False,\n\u001b[0m\u001b[0;32m    715\u001b[0m                        cov_type=cov_type, cov_kwds=cov_kwds)\n\u001b[0;32m    716\u001b[0m \u001b[1;33m\u001b[0m\u001b[0m\n",
      "\u001b[1;32m~\\AppData\\Local\\Programs\\Python\\Python39\\lib\\site-packages\\statsmodels\\tsa\\statespace\\mlemodel.py\u001b[0m in \u001b[0;36msmooth\u001b[1;34m(self, params, transformed, includes_fixed, complex_step, cov_type, cov_kwds, return_ssm, results_class, results_wrapper_class, **kwargs)\u001b[0m\n\u001b[0;32m    870\u001b[0m \u001b[1;33m\u001b[0m\u001b[0m\n\u001b[0;32m    871\u001b[0m         \u001b[1;31m# Get the state space output\u001b[0m\u001b[1;33m\u001b[0m\u001b[1;33m\u001b[0m\u001b[1;33m\u001b[0m\u001b[0m\n\u001b[1;32m--> 872\u001b[1;33m         \u001b[0mresult\u001b[0m \u001b[1;33m=\u001b[0m \u001b[0mself\u001b[0m\u001b[1;33m.\u001b[0m\u001b[0mssm\u001b[0m\u001b[1;33m.\u001b[0m\u001b[0msmooth\u001b[0m\u001b[1;33m(\u001b[0m\u001b[0mcomplex_step\u001b[0m\u001b[1;33m=\u001b[0m\u001b[0mcomplex_step\u001b[0m\u001b[1;33m,\u001b[0m \u001b[1;33m**\u001b[0m\u001b[0mkwargs\u001b[0m\u001b[1;33m)\u001b[0m\u001b[1;33m\u001b[0m\u001b[1;33m\u001b[0m\u001b[0m\n\u001b[0m\u001b[0;32m    873\u001b[0m \u001b[1;33m\u001b[0m\u001b[0m\n\u001b[0;32m    874\u001b[0m         \u001b[1;31m# Wrap in a results object\u001b[0m\u001b[1;33m\u001b[0m\u001b[1;33m\u001b[0m\u001b[1;33m\u001b[0m\u001b[0m\n",
      "\u001b[1;32m~\\AppData\\Local\\Programs\\Python\\Python39\\lib\\site-packages\\statsmodels\\tsa\\statespace\\kalman_smoother.py\u001b[0m in \u001b[0;36msmooth\u001b[1;34m(self, smoother_output, smooth_method, results, run_filter, prefix, complex_step, update_representation, update_filter, update_smoother, **kwargs)\u001b[0m\n\u001b[0;32m    412\u001b[0m         \u001b[1;31m# Update the results\u001b[0m\u001b[1;33m\u001b[0m\u001b[1;33m\u001b[0m\u001b[1;33m\u001b[0m\u001b[0m\n\u001b[0;32m    413\u001b[0m         \u001b[1;32mif\u001b[0m \u001b[0mupdate_smoother\u001b[0m\u001b[1;33m:\u001b[0m\u001b[1;33m\u001b[0m\u001b[1;33m\u001b[0m\u001b[0m\n\u001b[1;32m--> 414\u001b[1;33m             \u001b[0mresults\u001b[0m\u001b[1;33m.\u001b[0m\u001b[0mupdate_smoother\u001b[0m\u001b[1;33m(\u001b[0m\u001b[0msmoother\u001b[0m\u001b[1;33m)\u001b[0m\u001b[1;33m\u001b[0m\u001b[1;33m\u001b[0m\u001b[0m\n\u001b[0m\u001b[0;32m    415\u001b[0m \u001b[1;33m\u001b[0m\u001b[0m\n\u001b[0;32m    416\u001b[0m         \u001b[1;32mreturn\u001b[0m \u001b[0mresults\u001b[0m\u001b[1;33m\u001b[0m\u001b[1;33m\u001b[0m\u001b[0m\n",
      "\u001b[1;32m~\\AppData\\Local\\Programs\\Python\\Python39\\lib\\site-packages\\statsmodels\\tsa\\statespace\\kalman_smoother.py\u001b[0m in \u001b[0;36mupdate_smoother\u001b[1;34m(self, smoother)\u001b[0m\n\u001b[0;32m    665\u001b[0m                 \u001b[1;32melse\u001b[0m\u001b[1;33m:\u001b[0m\u001b[1;33m\u001b[0m\u001b[1;33m\u001b[0m\u001b[0m\n\u001b[0;32m    666\u001b[0m                     setattr(self, name,\n\u001b[1;32m--> 667\u001b[1;33m                             np.array(getattr(smoother, name, None), copy=True))\n\u001b[0m\u001b[0;32m    668\u001b[0m             \u001b[1;32melse\u001b[0m\u001b[1;33m:\u001b[0m\u001b[1;33m\u001b[0m\u001b[1;33m\u001b[0m\u001b[0m\n\u001b[0;32m    669\u001b[0m                 \u001b[0msetattr\u001b[0m\u001b[1;33m(\u001b[0m\u001b[0mself\u001b[0m\u001b[1;33m,\u001b[0m \u001b[0mname\u001b[0m\u001b[1;33m,\u001b[0m \u001b[1;32mNone\u001b[0m\u001b[1;33m)\u001b[0m\u001b[1;33m\u001b[0m\u001b[1;33m\u001b[0m\u001b[0m\n",
      "\u001b[1;31mMemoryError\u001b[0m: Unable to allocate 4.51 GiB for an array with shape (244, 244, 10176) and data type float64"
     ]
    }
   ],
   "source": [
    "import pmdarima as pm\n",
    "#import sklearn\n",
    "arima = pm.auto_arima(data1, error_action='ignore', trace=True,\n",
    "                      suppress_warnings=True, maxiter=5,\n",
    "                      seasonal=True, m=240)\n",
    "\n",
    "y=arima.predict(n_periods=len(validationdata))\n",
    "Rsq=sklearn.metrics.r2_score(validationdata,y)"
   ]
  },
  {
   "cell_type": "code",
   "execution_count": 3,
   "metadata": {},
   "outputs": [
    {
     "name": "stdout",
     "output_type": "stream",
     "text": [
      "1707\n"
     ]
    }
   ],
   "source": []
  },
  {
   "cell_type": "markdown",
   "metadata": {},
   "source": [
    "\n"
   ]
  },
  {
   "cell_type": "code",
   "execution_count": 13,
   "metadata": {},
   "outputs": [
    {
     "ename": "SyntaxError",
     "evalue": "cannot assign to function call (Temp/ipykernel_1528/2342898500.py, line 2)",
     "output_type": "error",
     "traceback": [
      "\u001b[1;36m  File \u001b[1;32m\"C:\\Users\\William\\AppData\\Local\\Temp/ipykernel_1528/2342898500.py\"\u001b[1;36m, line \u001b[1;32m2\u001b[0m\n\u001b[1;33m    for range(2010,2020):\u001b[0m\n\u001b[1;37m        ^\u001b[0m\n\u001b[1;31mSyntaxError\u001b[0m\u001b[1;31m:\u001b[0m cannot assign to function call\n"
     ]
    }
   ],
   "source": [
    "x=()\n",
    "for i in range(2010,2020):\n",
    "    x[i]=i"
   ]
  },
  {
   "cell_type": "code",
   "execution_count": null,
   "metadata": {},
   "outputs": [],
   "source": []
  },
  {
   "cell_type": "code",
   "execution_count": 8,
   "metadata": {},
   "outputs": [],
   "source": [
    "\n",
    "from src.modelling.simple_dirichlet_model_adrian_rajkamal import posterior_mean\n",
    "y=posterior_mean(x1)\n"
   ]
  },
  {
   "cell_type": "code",
   "execution_count": 9,
   "metadata": {},
   "outputs": [
    {
     "name": "stdout",
     "output_type": "stream",
     "text": [
      "[0.0 0.0 0.0 0.0 0.0 0.0 0.0 0.0 0.0 0.0 0.0 0.0 0.0 0.0 0.0 0.0 0.0\n",
      " 0.1111111111111111 0.0 0.0 0.0 0.0 0.0 0.0 0.0 0.0 0.1111111111111111\n",
      " 0.1111111111111111 0.1111111111111111 0.2222222222222222\n",
      " 0.2222222222222222 0.1111111111111111 0.0 0.0 0.0 0.0 0.0 0.0 0.0 0.0 0.0\n",
      " 0.0 0.0 0.0 0.0 0.0 0.0 0.0]\n",
      "[0.017543859649122806, 0.017543859649122806, 0.017543859649122806, 0.017543859649122806, 0.017543859649122806, 0.017543859649122806, 0.017543859649122806, 0.017543859649122806, 0.017543859649122806, 0.017543859649122806, 0.017543859649122806, 0.017543859649122806, 0.017543859649122806, 0.017543859649122806, 0.017543859649122806, 0.017543859649122806, 0.017543859649122806, 0.03508771929824561, 0.017543859649122806, 0.017543859649122806, 0.017543859649122806, 0.017543859649122806, 0.017543859649122806, 0.017543859649122806, 0.017543859649122806, 0.017543859649122806, 0.03508771929824561, 0.03508771929824561, 0.03508771929824561, 0.05263157894736842, 0.05263157894736842, 0.03508771929824561, 0.017543859649122806, 0.017543859649122806, 0.017543859649122806, 0.017543859649122806, 0.017543859649122806, 0.017543859649122806, 0.017543859649122806, 0.017543859649122806, 0.017543859649122806, 0.017543859649122806, 0.017543859649122806, 0.017543859649122806, 0.017543859649122806, 0.017543859649122806, 0.017543859649122806, 0.017543859649122806]\n"
     ]
    }
   ],
   "source": [
    "print(x)\n",
    "print(y)"
   ]
  },
  {
   "cell_type": "code",
   "execution_count": 10,
   "metadata": {},
   "outputs": [
    {
     "name": "stdout",
     "output_type": "stream",
     "text": [
      "[0.03508771929824561, 0.03508771929824561, 0.03508771929824561, 0.03508771929824561, 0.05263157894736842, 0.05263157894736842, 0.03508771929824561]\n"
     ]
    },
    {
     "data": {
      "text/plain": [
       "Text(0, 0.5, 'Exceedance Event Posterior Probability Expectation')"
      ]
     },
     "execution_count": 10,
     "metadata": {},
     "output_type": "execute_result"
    },
    {
     "data": {
      "image/png": "[encoded data removed]",
      "text/plain": [
       "<Figure size 432x288 with 1 Axes>"
      ]
     },
     "metadata": {
      "needs_background": "light"
     },
     "output_type": "display_data"
    }
   ],
   "source": [
    "from matplotlib import pyplot as plt\n",
    "from matplotlib.ticker import FormatStrFormatter\n",
    "from matplotlib.ticker import LogFormatter\n",
    "z=[y[i] for i in range(0,len(x)) if x[i]!=0]\n",
    "print(z)\n",
    "fig = plt.figure()\n",
    "ax=plt.subplot(111)\n",
    "#fig,ax=plt.subplots()\n",
    "ax.loglog(x,y,'.')\n",
    "formatter = LogFormatter(labelOnlyBase=False, minor_thresholds=(2, 0.4))\n",
    "ax.xaxis.set_minor_formatter(formatter)\n",
    "ax.yaxis.set_minor_formatter(formatter)\n",
    "#FrmatStrFormatter(\"%.2f\")\n",
    "fig.suptitle('Exceedance Event Relative Frequencies For Each Interval Plotted Against the Exceedance Event Posterior Probability Expectation')\n",
    "plt.xlabel('Exceedence Event Relative Frequencies')\n",
    "plt.ylabel('Exceedance Event Posterior Probability Expectation')\n",
    "#plt.tick_params(axis='y', which='minor')\n",
    "#plt.tick_params(axis='x', which='minor')\n",
    "#subsx=[0.5, 1.0, 1.5]\n",
    "#ax.set_xscale('log')\n",
    "#ax.set_yscale('log')\n",
    "#ax.set_xticks([10^(-2)])\n",
    "#ax.set_yticks([10^(-2)])\n",
    "\n"
   ]
  },
  {
   "cell_type": "code",
   "execution_count": 11,
   "metadata": {},
   "outputs": [
    {
     "name": "stdout",
     "output_type": "stream",
     "text": [
      "[2 1 2]\n"
     ]
    }
   ],
   "source": [
    "x=np.array([3,4,6])\n",
    "x[[0,1,2]]=[2,1,2]\n",
    "print(x)"
   ]
  },
  {
   "cell_type": "code",
   "execution_count": 10,
   "metadata": {},
   "outputs": [
    {
     "name": "stdout",
     "output_type": "stream",
     "text": [
      "8064\n",
      "8064\n",
      "4032\n",
      "4608\n",
      "4608\n",
      "2304\n",
      "[0.0 0.005917159763313609 0.0 0.005917159763313609 0.0 0.0 0.0 0.0 0.0 0.0\n",
      " 0.0 0.0 0.0 0.04142011834319527 0.005917159763313609 0.01775147928994083\n",
      " 0.011834319526627219 0.023668639053254437 0.005917159763313609\n",
      " 0.005917159763313609 0.0 0.023668639053254437 0.005917159763313609\n",
      " 0.029585798816568046 0.011834319526627219 0.011834319526627219\n",
      " 0.04142011834319527 0.01775147928994083 0.011834319526627219\n",
      " 0.01775147928994083 0.04142011834319527 0.047337278106508875\n",
      " 0.08284023668639054 0.11834319526627218 0.08284023668639054\n",
      " 0.0650887573964497 0.07100591715976332 0.08875739644970414\n",
      " 0.023668639053254437 0.005917159763313609 0.01775147928994083\n",
      " 0.011834319526627219 0.0 0.0 0.011834319526627219 0.01775147928994083\n",
      " 0.01775147928994083 0.0]\n"
     ]
    }
   ],
   "source": [
    "#%%\n",
    "import os\n",
    "import sys\n",
    "sys.path.insert(0,'D:\\Documents\\OneDrive\\Documents\\Data Science\\MaxKelsen\\csenergy-internship')\n",
    "from src.helpers.slicingdata import formatting\n",
    "from src.helpers.slicingdata import week\n",
    "from src.helpers.slicingdata1 import rearrange\n",
    "from src.helpers.frequency import relfreq\n",
    "import pandas as pd\n",
    "#%%\n",
    "\n",
    "#%%\n",
    "\n",
    "#%%\n",
    "import numpy as np\n",
    "DIR_BASE = 'D:/documents'\n",
    "FILE_HISTORY = os.path.join(DIR_BASE, \"CapPrice.csv\")\n",
    "df_=pd.read_csv(FILE_HISTORY)\n",
    "\n",
    "s=np.empty(len(df_),dtype=object)\n",
    "s[df_.iloc[:,3]>0]=1\n",
    "s[df_.iloc[:,3]==0]=0\n",
    "#df_=df_.iloc[range(0,15000),:]\n",
    "#m=df_.iloc[:,0].str[3:6]\n",
    "#arr = np.empty(len(df_), dtype=object)\n",
    "#arr[m=='Jan']=1\n",
    "#arr[m=='Feb']=2\n",
    "#arr[m=='Mar']=3\n",
    "#arr[m=='Apr']=4\n",
    "#arr[m=='May']=5\n",
    "#arr[m=='Jun']=6\n",
    "#arr[m=='Jul']=7\n",
    "#arr[m=='Aug']=8\n",
    "#arr[m=='Sep']=9\n",
    "#arr[m=='Oct']=10\n",
    "#arr[m=='Nov']=11\n",
    "#arr[m=='Dec']=12\n",
    "#x=week(1,df_,arr)\n",
    "#data2,E,s=formatting(df_,'Jan',2010)\n",
    "#2011,2012,2013,2014,2015,2016,2017,2018,2019,2020,2021\n",
    "#,rearrange(10,df_)\n",
    "rel_freqs_train,freqs_train=relfreq(df_,'Workdays',(2010,2011,2012,2013,2014,2015,2016),('Jan', 'Feb', 'Mar', 'Apr', 'May', 'Jun', 'Jul', 'Aug', 'Sep', 'Oct', 'Nov', 'Dec'))\n",
    "rel_freqs_test,freqs_test=relfreq(df_,'Workdays',(2017,2018,2019,2020),\n",
    "            ('Jan', 'Feb', 'Mar', 'Apr', 'May', 'Jun', 'Jul', 'Aug', 'Sep', 'Oct', 'Nov', 'Dec'))\n",
    "#x,x1=relfreq(df_,'Non Workdays',(2010),('May','Jun','Jul','Aug','Sep','Oct'))\n",
    "#print(E==0)\n",
    "\n",
    "#%% md\n",
    "\n",
    "\n",
    "#%%\n",
    "#print((freqs_test))\n",
    "#%%\n",
    "\n",
    "#%%\n",
    "\n",
    "from src.modelling.simple_dirichlet_model_adrian_rajkamal import posterior_mean\n",
    "means=posterior_mean(freqs_train)\n",
    "\n",
    "#%%\n",
    "print(rel_freqs_test)"
   ]
  },
  {
   "cell_type": "code",
   "execution_count": 10,
   "metadata": {},
   "outputs": [
    {
     "name": "stdout",
     "output_type": "stream",
     "text": [
      "[0.003424657534246575, 0.003424657534246575, 0.0017123287671232876, 0.003424657534246575, 0.0017123287671232876, 0.0017123287671232876, 0.0017123287671232876, 0.0017123287671232876, 0.0017123287671232876, 0.0017123287671232876, 0.003424657534246575, 0.0017123287671232876, 0.015410958904109588, 0.059931506849315065, 0.010273972602739725, 0.015410958904109588, 0.011986301369863013, 0.02226027397260274, 0.018835616438356163, 0.018835616438356163, 0.00684931506849315, 0.017123287671232876, 0.010273972602739725, 0.025684931506849314, 0.018835616438356163, 0.025684931506849314, 0.023972602739726026, 0.03595890410958904, 0.039383561643835614, 0.04452054794520548, 0.05821917808219178, 0.0547945205479452, 0.0821917808219178, 0.07705479452054795, 0.04965753424657534, 0.03767123287671233, 0.032534246575342464, 0.04794520547945205, 0.030821917808219176, 0.017123287671232876, 0.011986301369863013, 0.003424657534246575, 0.00684931506849315, 0.0017123287671232876, 0.010273972602739725, 0.018835616438356163, 0.008561643835616438, 0.0017123287671232876]\n",
      "[0.059931506849315065, 0.010273972602739725, 0.011986301369863013, 0.018835616438356163, 0.025684931506849314, 0.018835616438356163, 0.023972602739726026, 0.03595890410958904, 0.039383561643835614, 0.05821917808219178, 0.0821917808219178, 0.07705479452054795, 0.04965753424657534, 0.03767123287671233, 0.032534246575342464, 0.04794520547945205, 0.003424657534246575]\n"
     ]
    },
    {
     "data": {
      "text/plain": [
       "Text(0, 0.5, 'Exceedance Event Posterior Probability Expectation')"
      ]
     },
     "execution_count": 10,
     "metadata": {},
     "output_type": "execute_result"
    },
    {
     "data": {
      "image/png": "[encoded data removed]",
      "text/plain": [
       "<Figure size 432x288 with 1 Axes>"
      ]
     },
     "metadata": {
      "needs_background": "light"
     },
     "output_type": "display_data"
    }
   ],
   "source": [
    "print(means)\n",
    "#%%\n",
    "from matplotlib import pyplot as plt\n",
    "from matplotlib.ticker import FormatStrFormatter\n",
    "from matplotlib.ticker import LogFormatter\n",
    "z=[means[i] for i in range(0,len(rel_freqs_test)) if rel_freqs_test[i]!=0]\n",
    "print(z)\n",
    "fig = plt.figure()\n",
    "ax=plt.subplot(111)\n",
    "#fig,ax=plt.subplots()\n",
    "ax.loglog(rel_freqs_test,means, '.')\n",
    "formatter = LogFormatter(labelOnlyBase=False, minor_thresholds=(2, 0.4))\n",
    "ax.xaxis.set_minor_formatter(formatter)\n",
    "ax.yaxis.set_minor_formatter(formatter)\n",
    "#FrmatStrFormatter(\"%.2f\")\n",
    "fig.suptitle('Exceedance Event Relative Frequencies For Each Interval Plotted Against the Exceedance Event Posterior Probability Expectation')\n",
    "plt.xlabel('Exceedence Event Relative Frequencies')\n",
    "plt.ylabel('Exceedance Event Posterior Probability Expectation')"
   ]
  },
  {
   "cell_type": "code",
   "execution_count": 4,
   "metadata": {},
   "outputs": [
    {
     "ename": "SyntaxError",
     "evalue": "invalid syntax (Temp/ipykernel_18344/202292923.py, line 76)",
     "output_type": "error",
     "traceback": [
      "\u001b[1;36m  File \u001b[1;32m\"C:\\Users\\William\\AppData\\Local\\Temp/ipykernel_18344/202292923.py\"\u001b[1;36m, line \u001b[1;32m76\u001b[0m\n\u001b[1;33m    if work='Non Workdays':\u001b[0m\n\u001b[1;37m           ^\u001b[0m\n\u001b[1;31mSyntaxError\u001b[0m\u001b[1;31m:\u001b[0m invalid syntax\n"
     ]
    }
   ],
   "source": [
    "import csv\n",
    "import numpy as np\n",
    "import pandas as pd\n",
    "import datetime\n",
    "from multiprocessing import Pool\n",
    "from multiprocessing import sharedctypes\n",
    "import os\n",
    "import sys\n",
    "import torch\n",
    "\n",
    "\n",
    "from itertools import repeat\n",
    "\n",
    "import itertools\n",
    "\n",
    "sys.path.insert(0,'D:\\Documents\\OneDrive\\Documents\\Data Science\\MaxKelsen\\csenergy-internship')\n",
    "from src.helpers.slicingdata import formatting\n",
    "from src.helpers.slicingdata import week\n",
    "from src.helpers.slicingdata1 import rearrange\n",
    "from src.helpers.frequency import relfreq\n",
    "import matplotlib.pyplot as plt\n",
    "import torch\n",
    "\n",
    "import pyro\n",
    "import pyro.contrib.gp as gp\n",
    "import pyro.distributions as dist\n",
    "\n",
    "#DIR_BASE = 'D:/documents'\n",
    "#FILE_HISTORY = os.path.join(DIR_BASE, \"CapPrice.csv\")\n",
    "#df_=pd.read_csv(FILE_HISTORY)\n",
    "def GPenergy(df_,kernel,mean,month,work):\n",
    "    #s=np.empty(len(df_),dtype=object)\n",
    " \n",
    " m=df_.iloc[:,0].str[3:6]\n",
    " arr = np.empty(len(df_), dtype=object)\n",
    " arr[m=='Jan']=1\n",
    " arr[m=='Feb']=2\n",
    " arr[m=='Mar']=3\n",
    " arr[m=='Apr']=4\n",
    " arr[m=='May']=5\n",
    " arr[m=='Jun']=6\n",
    " arr[m=='Jul']=7\n",
    " arr[m=='Aug']=8\n",
    " arr[m=='Sep']=9\n",
    " arr[m=='Oct']=10\n",
    " arr[m=='Nov']=11\n",
    " arr[m=='Dec']=12\n",
    " b,c=df_,arr\n",
    " \n",
    "\n",
    " c2=np.zeros(len(df_))\n",
    " if type(month)==str:\n",
    "    \n",
    "   f=(month==df_.iloc[:,0].str[3:6])\n",
    "   f=np.array(f)\n",
    "   f=f.astype(int)\n",
    "   c2=c2+f\n",
    " else:\n",
    "  for r in range(0,len(month)):\n",
    "     \n",
    "     f=(month[r]==df_.iloc[:,0].str[3:6])\n",
    "     \n",
    "     f=np.array(f)\n",
    "     f=f.astype(int)\n",
    "     c2=c2+f\n",
    " \n",
    " c2=(c2==1)\n",
    " M2=[i for i, x in enumerate(c3) if x]\n",
    " arguments=[(a,b,c) for a in M2]\n",
    " E=np.zeros(len(df_))\n",
    " E1=np.array(P.starmap(week,arguments))\n",
    " E[M2]=E1\n",
    " \n",
    " if work=='Workdays':\n",
    "  data=df_.iloc[(E==1),2]\n",
    " if work='Non Workdays':\n",
    "  data=df_.iloc[(E==0),2]"
   ]
  }
 ],
 "metadata": {
  "kernelspec": {
   "display_name": "Python 3",
   "language": "python",
   "name": "python3"
  },
  "language_info": {
   "codemirror_mode": {
    "name": "ipython",
    "version": 3
   },
   "file_extension": ".py",
   "mimetype": "text/x-python",
   "name": "python",
   "nbconvert_exporter": "python",
   "pygments_lexer": "ipython3",
   "version": "3.9.4"
  }
 },
 "nbformat": 4,
 "nbformat_minor": 4
}
